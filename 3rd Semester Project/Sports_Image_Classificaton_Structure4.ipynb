{
 "cells": [
  {
   "cell_type": "code",
   "execution_count": 1,
   "id": "cbeabd66-2d39-4aa7-812f-48b672fb514a",
   "metadata": {},
   "outputs": [],
   "source": [
    "import tensorflow\n",
    "import keras\n",
    "from keras.preprocessing.image import ImageDataGenerator\n"
   ]
  },
  {
   "cell_type": "code",
   "execution_count": 2,
   "id": "75b52513-8c51-4107-bdff-5d73b991b57e",
   "metadata": {},
   "outputs": [],
   "source": [
    "data_train_characteristics=ImageDataGenerator(rescale=1./255,\n",
    "                             height_shift_range=10.0,\n",
    "                             width_shift_range=10.0,\n",
    "                               rotation_range=180,\n",
    "                              zoom_range=1.75,\n",
    "                              brightness_range=(0.1,0.9),\n",
    "                              channel_shift_range=200.0,\n",
    "                              horizontal_flip=True,\n",
    "                              vertical_flip=True,\n",
    "                              samplewise_center=True,\n",
    "                              featurewise_center=True,\n",
    "                              fill_mode=\"reflect\",\n",
    "                             )\n",
    "data_validation_characteristics=ImageDataGenerator(rescale=1./255,\n",
    "                             height_shift_range=10.0,\n",
    "                             width_shift_range=10.0,\n",
    "                               rotation_range=180,\n",
    "                              zoom_range=1.75,\n",
    "                              brightness_range=(0.1,0.9),\n",
    "                              channel_shift_range=200.0,\n",
    "                              horizontal_flip=True,\n",
    "                              vertical_flip=True,\n",
    "                              samplewise_center=True,\n",
    "                              featurewise_center=True,\n",
    "                              fill_mode=\"reflect\"\n",
    "                             )\n",
    "data_train_characteristics=ImageDataGenerator(rescale=1./255)"
   ]
  },
  {
   "cell_type": "code",
   "execution_count": 3,
   "id": "d70be3d7-3e0f-4202-9a74-301172d5e8ee",
   "metadata": {},
   "outputs": [
    {
     "name": "stdout",
     "output_type": "stream",
     "text": [
      "Found 125 images belonging to 2 classes.\n",
      "Found 10 images belonging to 2 classes.\n",
      "Found 10 images belonging to 2 classes.\n"
     ]
    }
   ],
   "source": [
    "train_data_set=data_train_characteristics.flow_from_directory(\"C:\\\\Users\\\\HP\\\\Documents\\\\Data_Set_4(Sports_Image)\\\\train\\\\\",\n",
    "                                                             target_size=(224,224),\n",
    "                                                              batch_size=32,\n",
    "                                                              color_mode=\"rgb\",\n",
    "                                                              class_mode=\"categorical\",\n",
    "                                                             )\n",
    "validation_data_set=data_validation_characteristics.flow_from_directory(\"C:\\\\Users\\\\HP\\\\Documents\\\\Data_Set_4(Sports_Image)\\\\valid\\\\\",\n",
    "                                                             target_size=(224,224),\n",
    "                                                              batch_size=32,\n",
    "                                                              color_mode=\"rgb\",\n",
    "                                                              class_mode=\"categorical\"\n",
    "                                                             )\n",
    "test_data_set=data_train_characteristics.flow_from_directory(\"C:\\\\Users\\\\HP\\\\Documents\\\\Data_Set_4(Sports_Image)\\\\test\\\\\",\n",
    "                                                             target_size=(224,224),\n",
    "                                                              color_mode=\"rgb\",\n",
    "                                                              class_mode=\"categorical\"\n",
    "                                                            )"
   ]
  },
  {
   "cell_type": "code",
   "execution_count": 4,
   "id": "cb6e258d-5854-49f0-a8c3-1b30f356eb6c",
   "metadata": {},
   "outputs": [],
   "source": [
    "from keras import Input\n",
    "from keras.layers import Conv2D,MaxPooling2D\n",
    "from keras.layers import Flatten,Dense\n",
    "from keras import Model\n",
    "from keras.optimizers import Adam"
   ]
  },
  {
   "cell_type": "code",
   "execution_count": 6,
   "id": "7f0d5643-cbde-4a60-b0d6-cb1395561e33",
   "metadata": {},
   "outputs": [],
   "source": [
    "input_layer=Input(shape=(224,224,3))\n",
    "\n",
    "conv_1=Conv2D(16,kernel_size=(3,3),padding=\"valid\",activation=\"relu\")(input_layer)\n",
    "max_1=MaxPooling2D(strides=1,pool_size=(3,3))(conv_1)\n",
    "\n",
    "conv_2=Conv2D(32,kernel_size=(3,3),padding=\"valid\",activation=\"relu\")(max_1)\n",
    "max_2=MaxPooling2D(strides=1,pool_size=(3,3))(conv_2)\n",
    "\n",
    "conv_3=Conv2D(64,kernel_size=(3,3),padding=\"valid\",activation=\"relu\")(max_2)\n",
    "max_3=MaxPooling2D(strides=1,pool_size=(3,3))(conv_3)\n",
    "\n",
    "conv_4=Conv2D(128,kernel_size=(3,3),padding=\"valid\",activation=\"relu\")(max_3)\n",
    "max_4=MaxPooling2D(strides=1,pool_size=(3,3))(conv_4)\n",
    "\n",
    "flatten=Flatten()(max_4)\n",
    "\n",
    "dense_1=Dense(32,activation=\"relu\")(flatten)\n",
    "dense_2=Dense(16,activation=\"relu\")(dense_1)\n",
    "dense_3=Dense(8,activation=\"relu\")(dense_2)\n",
    "dense_4=Dense(4,activation=\"relu\")(dense_3)\n",
    "output_layer=Dense(2,activation=\"softmax\")(dense_4)\n"
   ]
  },
  {
   "cell_type": "code",
   "execution_count": 7,
   "id": "02a9f901-cbd7-4baf-9c5e-9f955da78f40",
   "metadata": {},
   "outputs": [],
   "source": [
    "\n",
    "model=Model(input_layer,output_layer)\n",
    "\n",
    "model.compile(optimizer=Adam(learning_rate=0.002),\n",
    "             loss=\"categorical_crossentropy\",\n",
    "             metrics=[\"accuracy\"])\n",
    "\n"
   ]
  },
  {
   "cell_type": "code",
   "execution_count": null,
   "id": "a503ef9e-f704-4296-9207-d74d33016ab6",
   "metadata": {},
   "outputs": [
    {
     "name": "stdout",
     "output_type": "stream",
     "text": [
      "Epoch 1/7\n"
     ]
    }
   ],
   "source": [
    "history=model.fit(train_data_set,\n",
    "                 validation_data=validation_data_set,\n",
    "                 epochs=7,\n",
    "                 batch_size=32)"
   ]
  }
 ],
 "metadata": {
  "kernelspec": {
   "display_name": "env1-08july2023",
   "language": "python",
   "name": "env1-08july2023"
  },
  "language_info": {
   "codemirror_mode": {
    "name": "ipython",
    "version": 3
   },
   "file_extension": ".py",
   "mimetype": "text/x-python",
   "name": "python",
   "nbconvert_exporter": "python",
   "pygments_lexer": "ipython3",
   "version": "3.11.4"
  }
 },
 "nbformat": 4,
 "nbformat_minor": 5
}
